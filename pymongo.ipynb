{
 "cells": [
  {
   "cell_type": "code",
   "execution_count": 1,
   "metadata": {},
   "outputs": [],
   "source": [
    "import pymongo"
   ]
  },
  {
   "cell_type": "code",
   "execution_count": 2,
   "metadata": {},
   "outputs": [],
   "source": [
    "from pymongo import MongoClient\n",
    "client=MongoClient('localhost',27017)"
   ]
  },
  {
   "cell_type": "code",
   "execution_count": 3,
   "metadata": {},
   "outputs": [],
   "source": [
    "db=client.test_database"
   ]
  },
  {
   "cell_type": "code",
   "execution_count": 4,
   "metadata": {},
   "outputs": [
    {
     "name": "stdout",
     "output_type": "stream",
     "text": [
      "['admin', 'config', 'local', 'test_database']\n"
     ]
    }
   ],
   "source": [
    "print(client.list_database_names())"
   ]
  },
  {
   "cell_type": "code",
   "execution_count": 5,
   "metadata": {},
   "outputs": [],
   "source": [
    "collection=db.test_collection"
   ]
  },
  {
   "cell_type": "code",
   "execution_count": 7,
   "metadata": {},
   "outputs": [],
   "source": [
    "#document\n",
    "import datetime\n",
    "post={\n",
    "    \"author\": \"Mike\",\n",
    "    \"text\": \"My first blog post!\",\n",
    "    \"tags\": [\"mongodb\", \"python\", \"pymongo\"],\n",
    "    \"date\": datetime.datetime.utcnow()}\n"
   ]
  },
  {
   "cell_type": "code",
   "execution_count": 8,
   "metadata": {
    "scrolled": true
   },
   "outputs": [
    {
     "data": {
      "text/plain": [
       "ObjectId('5dfb62b3fed440f9dbe568d1')"
      ]
     },
     "execution_count": 8,
     "metadata": {},
     "output_type": "execute_result"
    }
   ],
   "source": [
    "#imp\n",
    "\n",
    "posts=db.posts\n",
    "post_id=posts.insert_one(post).inserted_id\n",
    "post_id\n"
   ]
  },
  {
   "cell_type": "code",
   "execution_count": 9,
   "metadata": {},
   "outputs": [
    {
     "name": "stdout",
     "output_type": "stream",
     "text": [
      "5dfb62b3fed440f9dbe568d1\n"
     ]
    }
   ],
   "source": [
    "print(post_id)"
   ]
  },
  {
   "cell_type": "code",
   "execution_count": 10,
   "metadata": {},
   "outputs": [
    {
     "data": {
      "text/plain": [
       "['posts', 'profiles']"
      ]
     },
     "execution_count": 10,
     "metadata": {},
     "output_type": "execute_result"
    }
   ],
   "source": [
    "db.list_collection_names()"
   ]
  },
  {
   "cell_type": "code",
   "execution_count": 11,
   "metadata": {},
   "outputs": [
    {
     "name": "stdout",
     "output_type": "stream",
     "text": [
      "{'_id': ObjectId('5dfb4c44f3e59de3f8281586'),\n",
      " 'author': 'Mike',\n",
      " 'date': datetime.datetime(2019, 12, 19, 10, 6, 15, 228000),\n",
      " 'tags': ['mongodb', 'python', 'pymongo'],\n",
      " 'text': 'My first blog post!'}\n"
     ]
    }
   ],
   "source": [
    "import pprint\n",
    "pprint.pprint(posts.find_one())"
   ]
  },
  {
   "cell_type": "code",
   "execution_count": 30,
   "metadata": {},
   "outputs": [
    {
     "name": "stdout",
     "output_type": "stream",
     "text": [
      "{'_id': ObjectId('5dfb4c44f3e59de3f8281586'),\n",
      " 'author': 'Mike',\n",
      " 'date': datetime.datetime(2019, 12, 19, 10, 6, 15, 228000),\n",
      " 'tags': ['mongodb', 'python', 'pymongo'],\n",
      " 'text': 'My first blog post!'}\n"
     ]
    }
   ],
   "source": [
    "#querying onspecific elements\n",
    "pprint.pprint(posts.find_one({\"author\": \"Mike\"}))"
   ]
  },
  {
   "cell_type": "code",
   "execution_count": 31,
   "metadata": {},
   "outputs": [
    {
     "name": "stdout",
     "output_type": "stream",
     "text": [
      "None\n"
     ]
    }
   ],
   "source": [
    "pprint.pprint(posts.find_one({'author':'someoneElse'}))"
   ]
  },
  {
   "cell_type": "code",
   "execution_count": 32,
   "metadata": {},
   "outputs": [
    {
     "name": "stdout",
     "output_type": "stream",
     "text": [
      "5dfb617ada042312ca2d670d\n"
     ]
    }
   ],
   "source": [
    "######\n",
    "#querying by objectid\n",
    "print(post_id)"
   ]
  },
  {
   "cell_type": "code",
   "execution_count": 33,
   "metadata": {},
   "outputs": [
    {
     "name": "stdout",
     "output_type": "stream",
     "text": [
      "{'_id': ObjectId('5dfb617ada042312ca2d670d'),\n",
      " 'author': 'Mike',\n",
      " 'date': datetime.datetime(2019, 12, 19, 11, 39, 38, 323000),\n",
      " 'tags': ['mongodb', 'python', 'pymongo'],\n",
      " 'text': 'My first blog post!'}\n"
     ]
    }
   ],
   "source": [
    "pprint.pprint(posts.find_one({\"_id\":post_id}))"
   ]
  },
  {
   "cell_type": "code",
   "execution_count": 34,
   "metadata": {},
   "outputs": [],
   "source": [
    "post_id_as_str=str(post_id)\n",
    "posts.find_one({'_id':post_id_as_str})"
   ]
  },
  {
   "cell_type": "code",
   "execution_count": 35,
   "metadata": {},
   "outputs": [],
   "source": [
    "from bson.objectid import ObjectId\n",
    "#The web framework gets post_id from the URL and passes it as a string\n",
    "def get(post_id):\n",
    "    #converting from string to ObjectId:\n",
    "    document=client.db.collection.find_one({'Id':ObjectId(post_id)})"
   ]
  },
  {
   "cell_type": "code",
   "execution_count": null,
   "metadata": {},
   "outputs": [
    {
     "name": "stdout",
     "output_type": "stream",
     "text": [
      " * Serving Flask app \"__main__\" (lazy loading)\n",
      " * Environment: production\n",
      "   WARNING: Do not use the development server in a production environment.\n",
      "   Use a production WSGI server instead.\n",
      " * Debug mode: off\n"
     ]
    },
    {
     "name": "stderr",
     "output_type": "stream",
     "text": [
      " * Running on http://127.0.0.1:5000/ (Press CTRL+C to quit)\n"
     ]
    }
   ],
   "source": [
    "######"
   ]
  },
  {
   "cell_type": "code",
   "execution_count": null,
   "metadata": {},
   "outputs": [],
   "source": [
    "#again\n",
    "post_id"
   ]
  },
  {
   "cell_type": "code",
   "execution_count": null,
   "metadata": {},
   "outputs": [],
   "source": [
    "pprint.pprint(posts.find_one({\"_id\":post_id}))"
   ]
  },
  {
   "cell_type": "code",
   "execution_count": null,
   "metadata": {},
   "outputs": [],
   "source": [
    "post_id_as_str=str(post_id)\n",
    "posts.find_one({\"_id\":post_id_as_str})"
   ]
  },
  {
   "cell_type": "code",
   "execution_count": null,
   "metadata": {},
   "outputs": [],
   "source": [
    "from bson.objectid import ObjectId\n",
    "def get(post_id):\n",
    "    document=cliet.db.collection.find_one({'_id':ObjectId(post_id)})"
   ]
  },
  {
   "cell_type": "code",
   "execution_count": null,
   "metadata": {},
   "outputs": [],
   "source": [
    "new_posts = [{\"author\": \"Mike\",\n",
    "\"text\": \"Another post!\",\n",
    "\"tags\": [\"bulk\", \"insert\"],\n",
    "\"date\": datetime.datetime(2009, 11, 12, 11, 14)},\n",
    "{\"author\": \"Eliot\",\n",
    "\"title\": \"MongoDB is fun\",\n",
    "\"text\": \"and pretty easy too!\",\n",
    "\"date\": datetime.datetime(2009, 11, 10, 10, 45)}]\n",
    "result = posts.insert_many(new_posts)\n",
    "result.inserted_ids\n",
    "#object id for each document inserted \n"
   ]
  },
  {
   "cell_type": "code",
   "execution_count": 12,
   "metadata": {},
   "outputs": [
    {
     "name": "stdout",
     "output_type": "stream",
     "text": [
      "{'_id': ObjectId('5dfb4c44f3e59de3f8281586'),\n",
      " 'author': 'Mike',\n",
      " 'date': datetime.datetime(2019, 12, 19, 10, 6, 15, 228000),\n",
      " 'tags': ['mongodb', 'python', 'pymongo'],\n",
      " 'text': 'My first blog post!'}\n",
      "{'_id': ObjectId('5dfb54c9f3e59de3f8281587'),\n",
      " 'author': 'Mike',\n",
      " 'date': datetime.datetime(2019, 12, 19, 10, 28, 5, 939000),\n",
      " 'tags': ['mongodb', 'python', 'pymongo'],\n",
      " 'text': 'My first blog post!'}\n",
      "{'_id': ObjectId('5dfb581c48dbf435d2ce4125'),\n",
      " 'author': 'Mike',\n",
      " 'date': datetime.datetime(2019, 12, 19, 10, 59, 38, 886000),\n",
      " 'tags': ['mongodb', 'python', 'pymongo'],\n",
      " 'text': 'My first blog post!'}\n",
      "{'_id': ObjectId('5dfb59440cade4ccf23dfc0f'),\n",
      " 'author': 'Mike',\n",
      " 'date': datetime.datetime(2019, 12, 19, 11, 4, 34, 50000),\n",
      " 'tags': ['mongodb', 'python', 'pymongo'],\n",
      " 'text': 'My first blog post!'}\n",
      "{'_id': ObjectId('5dfb5bb1033047b302362174'),\n",
      " 'author': 'Mike',\n",
      " 'date': datetime.datetime(2019, 12, 19, 11, 14, 57, 355000),\n",
      " 'tags': ['mongodb', 'python', 'pymongo'],\n",
      " 'text': 'My first blog post!'}\n",
      "{'_id': ObjectId('5dfb5c4d033047b302362175'),\n",
      " 'author': 'Mike',\n",
      " 'date': datetime.datetime(2009, 11, 12, 11, 14),\n",
      " 'tags': ['bulk', 'insert'],\n",
      " 'text': 'Another post!'}\n",
      "{'_id': ObjectId('5dfb5c4d033047b302362176'),\n",
      " 'author': 'Eliot',\n",
      " 'date': datetime.datetime(2009, 11, 10, 10, 45),\n",
      " 'text': 'and pretty easy too!',\n",
      " 'title': 'MongoDB is fun'}\n",
      "{'_id': ObjectId('5dfb5d9bda042312ca2d6706'),\n",
      " 'author': 'Mike',\n",
      " 'date': datetime.datetime(2019, 12, 19, 11, 23, 3, 598000),\n",
      " 'tags': ['mongodb', 'python', 'pymongo'],\n",
      " 'text': 'My first blog post!'}\n",
      "{'_id': ObjectId('5dfb617ada042312ca2d670d'),\n",
      " 'author': 'Mike',\n",
      " 'date': datetime.datetime(2019, 12, 19, 11, 39, 38, 323000),\n",
      " 'tags': ['mongodb', 'python', 'pymongo'],\n",
      " 'text': 'My first blog post!'}\n",
      "{'_id': ObjectId('5dfb62b3fed440f9dbe568d1'),\n",
      " 'author': 'Mike',\n",
      " 'date': datetime.datetime(2019, 12, 19, 11, 44, 50, 946000),\n",
      " 'tags': ['mongodb', 'python', 'pymongo'],\n",
      " 'text': 'My first blog post!'}\n"
     ]
    }
   ],
   "source": [
    "for post in posts.find():\n",
    "    pprint.pprint(post)"
   ]
  },
  {
   "cell_type": "code",
   "execution_count": 13,
   "metadata": {
    "scrolled": true
   },
   "outputs": [
    {
     "name": "stdout",
     "output_type": "stream",
     "text": [
      "{'_id': ObjectId('5dfb4c44f3e59de3f8281586'),\n",
      " 'author': 'Mike',\n",
      " 'date': datetime.datetime(2019, 12, 19, 10, 6, 15, 228000),\n",
      " 'tags': ['mongodb', 'python', 'pymongo'],\n",
      " 'text': 'My first blog post!'}\n",
      "{'_id': ObjectId('5dfb54c9f3e59de3f8281587'),\n",
      " 'author': 'Mike',\n",
      " 'date': datetime.datetime(2019, 12, 19, 10, 28, 5, 939000),\n",
      " 'tags': ['mongodb', 'python', 'pymongo'],\n",
      " 'text': 'My first blog post!'}\n",
      "{'_id': ObjectId('5dfb581c48dbf435d2ce4125'),\n",
      " 'author': 'Mike',\n",
      " 'date': datetime.datetime(2019, 12, 19, 10, 59, 38, 886000),\n",
      " 'tags': ['mongodb', 'python', 'pymongo'],\n",
      " 'text': 'My first blog post!'}\n",
      "{'_id': ObjectId('5dfb59440cade4ccf23dfc0f'),\n",
      " 'author': 'Mike',\n",
      " 'date': datetime.datetime(2019, 12, 19, 11, 4, 34, 50000),\n",
      " 'tags': ['mongodb', 'python', 'pymongo'],\n",
      " 'text': 'My first blog post!'}\n",
      "{'_id': ObjectId('5dfb5bb1033047b302362174'),\n",
      " 'author': 'Mike',\n",
      " 'date': datetime.datetime(2019, 12, 19, 11, 14, 57, 355000),\n",
      " 'tags': ['mongodb', 'python', 'pymongo'],\n",
      " 'text': 'My first blog post!'}\n",
      "{'_id': ObjectId('5dfb5c4d033047b302362175'),\n",
      " 'author': 'Mike',\n",
      " 'date': datetime.datetime(2009, 11, 12, 11, 14),\n",
      " 'tags': ['bulk', 'insert'],\n",
      " 'text': 'Another post!'}\n",
      "{'_id': ObjectId('5dfb5d9bda042312ca2d6706'),\n",
      " 'author': 'Mike',\n",
      " 'date': datetime.datetime(2019, 12, 19, 11, 23, 3, 598000),\n",
      " 'tags': ['mongodb', 'python', 'pymongo'],\n",
      " 'text': 'My first blog post!'}\n",
      "{'_id': ObjectId('5dfb617ada042312ca2d670d'),\n",
      " 'author': 'Mike',\n",
      " 'date': datetime.datetime(2019, 12, 19, 11, 39, 38, 323000),\n",
      " 'tags': ['mongodb', 'python', 'pymongo'],\n",
      " 'text': 'My first blog post!'}\n",
      "{'_id': ObjectId('5dfb62b3fed440f9dbe568d1'),\n",
      " 'author': 'Mike',\n",
      " 'date': datetime.datetime(2019, 12, 19, 11, 44, 50, 946000),\n",
      " 'tags': ['mongodb', 'python', 'pymongo'],\n",
      " 'text': 'My first blog post!'}\n"
     ]
    }
   ],
   "source": [
    "for post in posts.find({\"author\":\"Mike\"}):\n",
    "    pprint.pprint(post)"
   ]
  },
  {
   "cell_type": "code",
   "execution_count": 14,
   "metadata": {},
   "outputs": [
    {
     "data": {
      "text/plain": [
       "10"
      ]
     },
     "execution_count": 14,
     "metadata": {},
     "output_type": "execute_result"
    }
   ],
   "source": [
    "posts.count_documents({})\n",
    "#data keeps on adddin on ,,, one more will be added if runned subsequently "
   ]
  },
  {
   "cell_type": "code",
   "execution_count": 15,
   "metadata": {},
   "outputs": [
    {
     "data": {
      "text/plain": [
       "9"
      ]
     },
     "execution_count": 15,
     "metadata": {},
     "output_type": "execute_result"
    }
   ],
   "source": [
    "posts.count_documents({'author':\"Mike\"})"
   ]
  },
  {
   "cell_type": "code",
   "execution_count": 16,
   "metadata": {},
   "outputs": [
    {
     "name": "stdout",
     "output_type": "stream",
     "text": [
      "{'_id': ObjectId('5dfb5c4d033047b302362175'),\n",
      " 'author': 'Mike',\n",
      " 'date': datetime.datetime(2009, 11, 12, 11, 14),\n",
      " 'tags': ['bulk', 'insert'],\n",
      " 'text': 'Another post!'}\n",
      "{'_id': ObjectId('5dfb5c4d033047b302362176'),\n",
      " 'author': 'Eliot',\n",
      " 'date': datetime.datetime(2009, 11, 10, 10, 45),\n",
      " 'text': 'and pretty easy too!',\n",
      " 'title': 'MongoDB is fun'}\n"
     ]
    }
   ],
   "source": [
    "d=datetime.datetime(2019,11,12,19)\n",
    "for post in posts.find({\"date\":{\"$lt\":d}}).sort(\"aurthor\"):\n",
    "    pprint.pprint(post)\n",
    "#$lt used to do a range query "
   ]
  },
  {
   "cell_type": "code",
   "execution_count": 15,
   "metadata": {},
   "outputs": [
    {
     "data": {
      "text/plain": [
       "[]"
      ]
     },
     "execution_count": 15,
     "metadata": {},
     "output_type": "execute_result"
    }
   ],
   "source": [
    "#eeerrrooorrr\n",
    "result=db.profiles.create_index([('user_id',pymongo.ASCENDING)],unique=True)\n",
    "sorted(list(db.prfiles.index_information()))\n"
   ]
  },
  {
   "cell_type": "code",
   "execution_count": 17,
   "metadata": {},
   "outputs": [
    {
     "data": {
      "text/plain": [
       "['_id_', 'user_id_1']"
      ]
     },
     "execution_count": 17,
     "metadata": {},
     "output_type": "execute_result"
    }
   ],
   "source": [
    "result = db.profiles.create_index([('user_id', pymongo.ASCENDING)],unique=True)\n",
    "sorted(list(db.profiles.index_information()))"
   ]
  }
 ],
 "metadata": {
  "kernelspec": {
   "display_name": "Python 3",
   "language": "python",
   "name": "python3"
  },
  "language_info": {
   "codemirror_mode": {
    "name": "ipython",
    "version": 3
   },
   "file_extension": ".py",
   "mimetype": "text/x-python",
   "name": "python",
   "nbconvert_exporter": "python",
   "pygments_lexer": "ipython3",
   "version": "3.7.3"
  }
 },
 "nbformat": 4,
 "nbformat_minor": 2
}
